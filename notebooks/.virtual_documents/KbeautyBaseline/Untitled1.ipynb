get_ipython().getoutput("wget https://robot-public.s3.ap-northeast-2.amazonaws.com/niahairdata/madeparquet/latest20210127.parquet")


get_ipython().getoutput("wget https://robot-public.s3.ap-northeast-2.amazonaws.com/niahairdata/madeparquet/latest.parquet")


import pandas as pd
